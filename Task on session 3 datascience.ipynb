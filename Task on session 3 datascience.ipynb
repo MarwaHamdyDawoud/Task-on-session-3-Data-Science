{
 "cells": [
  {
   "cell_type": "markdown",
   "id": "f5a7961a",
   "metadata": {},
   "source": [
    "# tensorproduct with axes=0\n",
    "#### Here we multiply each instance in x with each instance in y\n",
    "### i.e. each instance in x is a scalor\n",
    "##### should not be of the same size"
   ]
  },
  {
   "cell_type": "code",
   "execution_count": 18,
   "id": "0350a935",
   "metadata": {},
   "outputs": [
    {
     "name": "stdout",
     "output_type": "stream",
     "text": [
      "(3, 3)\n",
      "(2, 3)\n",
      "[[[[ 3  6  4]\n",
      "   [ 2  8  0]]\n",
      "\n",
      "  [[ 9 18 12]\n",
      "   [ 6 24  0]]\n",
      "\n",
      "  [[21 42 28]\n",
      "   [14 56  0]]]\n",
      "\n",
      "\n",
      " [[[ 6 12  8]\n",
      "   [ 4 16  0]]\n",
      "\n",
      "  [[18 36 24]\n",
      "   [12 48  0]]\n",
      "\n",
      "  [[24 48 32]\n",
      "   [16 64  0]]]\n",
      "\n",
      "\n",
      " [[[ 9 18 12]\n",
      "   [ 6 24  0]]\n",
      "\n",
      "  [[ 0  0  0]\n",
      "   [ 0  0  0]]\n",
      "\n",
      "  [[24 48 32]\n",
      "   [16 64  0]]]]\n"
     ]
    }
   ],
   "source": [
    "w=np.array([[1, 3, 7],\n",
    "            [2, 6, 8], \n",
    "            [3, 0, 8]\n",
    "    \n",
    "])\n",
    "print (w.shape)\n",
    "v= np.array([[3, 6, 4],\n",
    "             [2, 8, 0],\n",
    "    \n",
    "])\n",
    "print (v.shape)\n",
    "d= np.tensordot(w, v, axes=0)\n",
    "print (d)"
   ]
  },
  {
   "cell_type": "markdown",
   "id": "33e91a30",
   "metadata": {},
   "source": [
    "# tensorproduct with axes=1\n",
    "#### Here we multiply each row in x with each column in y, then adds them\n",
    "### i.e. each instance in x is a vector\n",
    "##### the fist array should have no of rows as the second colmn's array"
   ]
  },
  {
   "cell_type": "code",
   "execution_count": 20,
   "id": "ad00f328",
   "metadata": {},
   "outputs": [
    {
     "name": "stdout",
     "output_type": "stream",
     "text": [
      "(3, 3)\n",
      "(3, 2)\n",
      "[[ 30  93]\n",
      " [ 42 132]\n",
      " [ 33  90]]\n"
     ]
    }
   ],
   "source": [
    "W=np.array([[1, 3, 7],\n",
    "            [2, 6, 8], \n",
    "            [3, 0, 8]\n",
    "    \n",
    "])\n",
    "print (W.shape)\n",
    "V= np.array([[3, 6],\n",
    "             [2, 8],\n",
    "             [3, 9]\n",
    "    \n",
    "])\n",
    "print (V.shape)\n",
    "u= np.tensordot(W, V, axes=1)\n",
    "print (u)"
   ]
  },
  {
   "cell_type": "markdown",
   "id": "71864e9b",
   "metadata": {},
   "source": [
    "# tensordot with axes=2\n",
    "#### Here we multiply array x with array y, then adds them\n",
    "### i.e. each instance in x is a 2D tensor\n",
    "##### the fist array should have the same shape as the second array"
   ]
  },
  {
   "cell_type": "code",
   "execution_count": 22,
   "id": "d8674333",
   "metadata": {
    "scrolled": true
   },
   "outputs": [
    {
     "name": "stdout",
     "output_type": "stream",
     "text": [
      "(3, 3)\n",
      "(3, 3)\n",
      "178\n"
     ]
    }
   ],
   "source": [
    "e=np.array([[1, 3, 7],\n",
    "            [2, 6, 8], \n",
    "            [3, 0, 8]\n",
    "    \n",
    "])\n",
    "print (e.shape)\n",
    "f= np.array([[3, 6, 0],\n",
    "             [2, 8, 8],\n",
    "             [3, 9, 4]\n",
    "    \n",
    "])\n",
    "print (f.shape)\n",
    "G= np.tensordot(e, f, axes=2)\n",
    "print (G)"
   ]
  },
  {
   "cell_type": "markdown",
   "id": "a8443eaa",
   "metadata": {},
   "source": [
    "## Difference between tensorproduct and tensordot"
   ]
  },
  {
   "cell_type": "code",
   "execution_count": null,
   "id": "f2ef3344",
   "metadata": {},
   "outputs": [],
   "source": [
    "#The tensor product is the product only of any 2 arrays together.\n",
    "#The dot product combines two vectors into a scalar (a number). It is actually the inner product, by adding the summation after multiplication"
   ]
  }
 ],
 "metadata": {
  "kernelspec": {
   "display_name": "Python 3 (ipykernel)",
   "language": "python",
   "name": "python3"
  },
  "language_info": {
   "codemirror_mode": {
    "name": "ipython",
    "version": 3
   },
   "file_extension": ".py",
   "mimetype": "text/x-python",
   "name": "python",
   "nbconvert_exporter": "python",
   "pygments_lexer": "ipython3",
   "version": "3.9.12"
  }
 },
 "nbformat": 4,
 "nbformat_minor": 5
}
